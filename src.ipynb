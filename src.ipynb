{
 "cells": [
  {
   "cell_type": "code",
   "execution_count": 42,
   "id": "090b27e5",
   "metadata": {},
   "outputs": [],
   "source": [
    "# Importing required libraries\n",
    "import seaborn as snL\n",
    "import pandas as pd\n",
    "import numpy as np\n",
    "from datetime import datetime"
   ]
  },
  {
   "cell_type": "code",
   "execution_count": 43,
   "id": "ffd5e083",
   "metadata": {},
   "outputs": [],
   "source": [
    "# Reading data source\n",
    "df_csv = pd.read_csv('./train.csv')"
   ]
  },
  {
   "cell_type": "code",
   "execution_count": 44,
   "id": "a8d5e81e",
   "metadata": {},
   "outputs": [
    {
     "data": {
      "text/plain": [
       "5847"
      ]
     },
     "execution_count": 44,
     "metadata": {},
     "output_type": "execute_result"
    }
   ],
   "source": [
    "# Data Cleaning\n",
    "# - total count\n",
    "len(df_csv)"
   ]
  },
  {
   "cell_type": "code",
   "execution_count": 45,
   "id": "70ab7533",
   "metadata": {},
   "outputs": [
    {
     "data": {
      "text/html": [
       "<div>\n",
       "<style scoped>\n",
       "    .dataframe tbody tr th:only-of-type {\n",
       "        vertical-align: middle;\n",
       "    }\n",
       "\n",
       "    .dataframe tbody tr th {\n",
       "        vertical-align: top;\n",
       "    }\n",
       "\n",
       "    .dataframe thead th {\n",
       "        text-align: right;\n",
       "    }\n",
       "</style>\n",
       "<table border=\"1\" class=\"dataframe\">\n",
       "  <thead>\n",
       "    <tr style=\"text-align: right;\">\n",
       "      <th></th>\n",
       "      <th>Unnamed: 0</th>\n",
       "      <th>Name</th>\n",
       "      <th>Location</th>\n",
       "      <th>Year</th>\n",
       "      <th>Kilometers_Driven</th>\n",
       "      <th>Fuel_Type</th>\n",
       "      <th>Transmission</th>\n",
       "      <th>Owner_Type</th>\n",
       "      <th>Mileage</th>\n",
       "      <th>Engine</th>\n",
       "      <th>Power</th>\n",
       "      <th>Seats</th>\n",
       "      <th>New_Price</th>\n",
       "      <th>Price</th>\n",
       "    </tr>\n",
       "  </thead>\n",
       "  <tbody>\n",
       "    <tr>\n",
       "      <th>0</th>\n",
       "      <td>1</td>\n",
       "      <td>Hyundai Creta 1.6 CRDi SX Option</td>\n",
       "      <td>Pune</td>\n",
       "      <td>2015</td>\n",
       "      <td>41000</td>\n",
       "      <td>Diesel</td>\n",
       "      <td>Manual</td>\n",
       "      <td>First</td>\n",
       "      <td>19.67 kmpl</td>\n",
       "      <td>1582 CC</td>\n",
       "      <td>126.2 bhp</td>\n",
       "      <td>5.0</td>\n",
       "      <td>NaN</td>\n",
       "      <td>12.50</td>\n",
       "    </tr>\n",
       "    <tr>\n",
       "      <th>1</th>\n",
       "      <td>2</td>\n",
       "      <td>Honda Jazz V</td>\n",
       "      <td>Chennai</td>\n",
       "      <td>2011</td>\n",
       "      <td>46000</td>\n",
       "      <td>Petrol</td>\n",
       "      <td>Manual</td>\n",
       "      <td>First</td>\n",
       "      <td>13 km/kg</td>\n",
       "      <td>1199 CC</td>\n",
       "      <td>88.7 bhp</td>\n",
       "      <td>5.0</td>\n",
       "      <td>8.61 Lakh</td>\n",
       "      <td>4.50</td>\n",
       "    </tr>\n",
       "    <tr>\n",
       "      <th>2</th>\n",
       "      <td>3</td>\n",
       "      <td>Maruti Ertiga VDI</td>\n",
       "      <td>Chennai</td>\n",
       "      <td>2012</td>\n",
       "      <td>87000</td>\n",
       "      <td>Diesel</td>\n",
       "      <td>Manual</td>\n",
       "      <td>First</td>\n",
       "      <td>20.77 kmpl</td>\n",
       "      <td>1248 CC</td>\n",
       "      <td>88.76 bhp</td>\n",
       "      <td>7.0</td>\n",
       "      <td>NaN</td>\n",
       "      <td>6.00</td>\n",
       "    </tr>\n",
       "    <tr>\n",
       "      <th>3</th>\n",
       "      <td>4</td>\n",
       "      <td>Audi A4 New 2.0 TDI Multitronic</td>\n",
       "      <td>Coimbatore</td>\n",
       "      <td>2013</td>\n",
       "      <td>40670</td>\n",
       "      <td>Diesel</td>\n",
       "      <td>Automatic</td>\n",
       "      <td>Second</td>\n",
       "      <td>15.2 kmpl</td>\n",
       "      <td>1968 CC</td>\n",
       "      <td>140.8 bhp</td>\n",
       "      <td>5.0</td>\n",
       "      <td>NaN</td>\n",
       "      <td>17.74</td>\n",
       "    </tr>\n",
       "    <tr>\n",
       "      <th>4</th>\n",
       "      <td>6</td>\n",
       "      <td>Nissan Micra Diesel XV</td>\n",
       "      <td>Jaipur</td>\n",
       "      <td>2013</td>\n",
       "      <td>86999</td>\n",
       "      <td>Diesel</td>\n",
       "      <td>Manual</td>\n",
       "      <td>First</td>\n",
       "      <td>23.08 kmpl</td>\n",
       "      <td>1461 CC</td>\n",
       "      <td>63.1 bhp</td>\n",
       "      <td>5.0</td>\n",
       "      <td>NaN</td>\n",
       "      <td>3.50</td>\n",
       "    </tr>\n",
       "  </tbody>\n",
       "</table>\n",
       "</div>"
      ],
      "text/plain": [
       "   Unnamed: 0                              Name    Location  Year  \\\n",
       "0           1  Hyundai Creta 1.6 CRDi SX Option        Pune  2015   \n",
       "1           2                      Honda Jazz V     Chennai  2011   \n",
       "2           3                 Maruti Ertiga VDI     Chennai  2012   \n",
       "3           4   Audi A4 New 2.0 TDI Multitronic  Coimbatore  2013   \n",
       "4           6            Nissan Micra Diesel XV      Jaipur  2013   \n",
       "\n",
       "   Kilometers_Driven Fuel_Type Transmission Owner_Type     Mileage   Engine  \\\n",
       "0              41000    Diesel       Manual      First  19.67 kmpl  1582 CC   \n",
       "1              46000    Petrol       Manual      First    13 km/kg  1199 CC   \n",
       "2              87000    Diesel       Manual      First  20.77 kmpl  1248 CC   \n",
       "3              40670    Diesel    Automatic     Second   15.2 kmpl  1968 CC   \n",
       "4              86999    Diesel       Manual      First  23.08 kmpl  1461 CC   \n",
       "\n",
       "       Power  Seats  New_Price  Price  \n",
       "0  126.2 bhp    5.0        NaN  12.50  \n",
       "1   88.7 bhp    5.0  8.61 Lakh   4.50  \n",
       "2  88.76 bhp    7.0        NaN   6.00  \n",
       "3  140.8 bhp    5.0        NaN  17.74  \n",
       "4   63.1 bhp    5.0        NaN   3.50  "
      ]
     },
     "execution_count": 45,
     "metadata": {},
     "output_type": "execute_result"
    }
   ],
   "source": [
    "df_csv.head()"
   ]
  },
  {
   "cell_type": "code",
   "execution_count": 46,
   "id": "7ea5d11e",
   "metadata": {},
   "outputs": [
    {
     "data": {
      "text/plain": [
       "Unnamed: 0              0\n",
       "Name                    0\n",
       "Location                0\n",
       "Year                    0\n",
       "Kilometers_Driven       0\n",
       "Fuel_Type               0\n",
       "Transmission            0\n",
       "Owner_Type              0\n",
       "Mileage                 2\n",
       "Engine                 36\n",
       "Power                  36\n",
       "Seats                  38\n",
       "New_Price            5032\n",
       "Price                   0\n",
       "dtype: int64"
      ]
     },
     "execution_count": 46,
     "metadata": {},
     "output_type": "execute_result"
    }
   ],
   "source": [
    "df_csv.isnull().sum()"
   ]
  },
  {
   "cell_type": "markdown",
   "id": "c6939128",
   "metadata": {},
   "source": [
    "a. Since the median is less impacted by extreme values (outliers) in the dataset, it is a better option than the mean or mode in this situation. Car prices can fluctuate widely, and the mean might be distorted by outliers, which lessens its representativeness of the data's core trend. In contrast, the median represents the middle value after sorting the data and provides a more reliable indicator of central tendency when outliers are present.\n",
    "\n",
    "In order replace null values in 'New_Price' column, firstly it has be all numeric valued. \n",
    "\n"
   ]
  },
  {
   "cell_type": "code",
   "execution_count": 47,
   "id": "5d60d159",
   "metadata": {},
   "outputs": [],
   "source": [
    "# filtering out 'New_Price' column\n",
    "df_csv['New_Price'] = df_csv['New_Price'].astype(str)\n",
    "df_csv['New_Price'] = df_csv['New_Price'].str.extract(r'([\\d.]+)').astype(float)"
   ]
  },
  {
   "cell_type": "code",
   "execution_count": 48,
   "id": "555b90e3",
   "metadata": {},
   "outputs": [
    {
     "name": "stdout",
     "output_type": "stream",
     "text": [
      "      Unnamed: 0                              Name    Location  Year  \\\n",
      "0              1  Hyundai Creta 1.6 CRDi SX Option        Pune  2015   \n",
      "1              2                      Honda Jazz V     Chennai  2011   \n",
      "2              3                 Maruti Ertiga VDI     Chennai  2012   \n",
      "3              4   Audi A4 New 2.0 TDI Multitronic  Coimbatore  2013   \n",
      "4              6            Nissan Micra Diesel XV      Jaipur  2013   \n",
      "...          ...                               ...         ...   ...   \n",
      "5842        6014                  Maruti Swift VDI       Delhi  2014   \n",
      "5843        6015          Hyundai Xcent 1.1 CRDi S      Jaipur  2015   \n",
      "5844        6016             Mahindra Xylo D4 BSIV      Jaipur  2012   \n",
      "5845        6017                Maruti Wagon R VXI     Kolkata  2013   \n",
      "5846        6018             Chevrolet Beat Diesel   Hyderabad  2011   \n",
      "\n",
      "      Kilometers_Driven Fuel_Type Transmission Owner_Type     Mileage  \\\n",
      "0                 41000    Diesel       Manual      First  19.67 kmpl   \n",
      "1                 46000    Petrol       Manual      First    13 km/kg   \n",
      "2                 87000    Diesel       Manual      First  20.77 kmpl   \n",
      "3                 40670    Diesel    Automatic     Second   15.2 kmpl   \n",
      "4                 86999    Diesel       Manual      First  23.08 kmpl   \n",
      "...                 ...       ...          ...        ...         ...   \n",
      "5842              27365    Diesel       Manual      First   28.4 kmpl   \n",
      "5843             100000    Diesel       Manual      First   24.4 kmpl   \n",
      "5844              55000    Diesel       Manual     Second   14.0 kmpl   \n",
      "5845              46000    Petrol       Manual      First   18.9 kmpl   \n",
      "5846              47000    Diesel       Manual      First  25.44 kmpl   \n",
      "\n",
      "       Engine      Power  Seats  New_Price  Price  \n",
      "0     1582 CC  126.2 bhp    5.0      11.48  12.50  \n",
      "1     1199 CC   88.7 bhp    5.0       8.61   4.50  \n",
      "2     1248 CC  88.76 bhp    7.0      11.48   6.00  \n",
      "3     1968 CC  140.8 bhp    5.0      11.48  17.74  \n",
      "4     1461 CC   63.1 bhp    5.0      11.48   3.50  \n",
      "...       ...        ...    ...        ...    ...  \n",
      "5842  1248 CC     74 bhp    5.0       7.88   4.75  \n",
      "5843  1120 CC     71 bhp    5.0      11.48   4.00  \n",
      "5844  2498 CC    112 bhp    8.0      11.48   2.90  \n",
      "5845   998 CC   67.1 bhp    5.0      11.48   2.65  \n",
      "5846   936 CC   57.6 bhp    5.0      11.48   2.50  \n",
      "\n",
      "[5847 rows x 14 columns]\n"
     ]
    }
   ],
   "source": [
    "# Calcuating the median of the 'New_Price' column\n",
    "median_new_price = df_csv['New_Price'].median()\n",
    "# Replaciong null values\n",
    "df_csv['New_Price'].fillna(median_new_price, inplace=True)\n",
    "print(df_csv)"
   ]
  },
  {
   "cell_type": "markdown",
   "id": "6bcefaca",
   "metadata": {},
   "source": [
    "b. Converting 'Power','Engine','Mileage' columns to numeric values by filtering out the 'bhp','CC','kmpl' respectivitly"
   ]
  },
  {
   "cell_type": "code",
   "execution_count": 50,
   "id": "5672ba60",
   "metadata": {},
   "outputs": [
    {
     "name": "stdout",
     "output_type": "stream",
     "text": [
      "      Unnamed: 0                              Name    Location  Year  \\\n",
      "0              1  Hyundai Creta 1.6 CRDi SX Option        Pune  2015   \n",
      "1              2                      Honda Jazz V     Chennai  2011   \n",
      "2              3                 Maruti Ertiga VDI     Chennai  2012   \n",
      "3              4   Audi A4 New 2.0 TDI Multitronic  Coimbatore  2013   \n",
      "4              6            Nissan Micra Diesel XV      Jaipur  2013   \n",
      "...          ...                               ...         ...   ...   \n",
      "5842        6014                  Maruti Swift VDI       Delhi  2014   \n",
      "5843        6015          Hyundai Xcent 1.1 CRDi S      Jaipur  2015   \n",
      "5844        6016             Mahindra Xylo D4 BSIV      Jaipur  2012   \n",
      "5845        6017                Maruti Wagon R VXI     Kolkata  2013   \n",
      "5846        6018             Chevrolet Beat Diesel   Hyderabad  2011   \n",
      "\n",
      "      Kilometers_Driven Fuel_Type Transmission Owner_Type     Mileage  \\\n",
      "0                 41000    Diesel       Manual      First  19.67 kmpl   \n",
      "1                 46000    Petrol       Manual      First    13 km/kg   \n",
      "2                 87000    Diesel       Manual      First  20.77 kmpl   \n",
      "3                 40670    Diesel    Automatic     Second   15.2 kmpl   \n",
      "4                 86999    Diesel       Manual      First  23.08 kmpl   \n",
      "...                 ...       ...          ...        ...         ...   \n",
      "5842              27365    Diesel       Manual      First   28.4 kmpl   \n",
      "5843             100000    Diesel       Manual      First   24.4 kmpl   \n",
      "5844              55000    Diesel       Manual     Second   14.0 kmpl   \n",
      "5845              46000    Petrol       Manual      First   18.9 kmpl   \n",
      "5846              47000    Diesel       Manual      First  25.44 kmpl   \n",
      "\n",
      "       Engine      Power  Seats  New_Price  Price  \n",
      "0     1582 CC  126.2 bhp    5.0      11.48  12.50  \n",
      "1     1199 CC   88.7 bhp    5.0       8.61   4.50  \n",
      "2     1248 CC  88.76 bhp    7.0      11.48   6.00  \n",
      "3     1968 CC  140.8 bhp    5.0      11.48  17.74  \n",
      "4     1461 CC   63.1 bhp    5.0      11.48   3.50  \n",
      "...       ...        ...    ...        ...    ...  \n",
      "5842  1248 CC     74 bhp    5.0       7.88   4.75  \n",
      "5843  1120 CC     71 bhp    5.0      11.48   4.00  \n",
      "5844  2498 CC    112 bhp    8.0      11.48   2.90  \n",
      "5845   998 CC   67.1 bhp    5.0      11.48   2.65  \n",
      "5846   936 CC   57.6 bhp    5.0      11.48   2.50  \n",
      "\n",
      "[5847 rows x 14 columns]\n"
     ]
    }
   ],
   "source": [
    "# function \n",
    "df_csv['Power'].astype(str)\n",
    "print(df_csv)\n",
    "\n",
    "def filterOut(value):\n",
    "    if pd.isnull(value):\n",
    "        return None\n",
    "    index = value.find(\" \")\n",
    "    if index != -1:\n",
    "        numeric = value[:index]\n",
    "    else:\n",
    "        numeric = value\n",
    "    return(numeric)"
   ]
  },
  {
   "cell_type": "code",
   "execution_count": 51,
   "id": "163ef35f",
   "metadata": {},
   "outputs": [],
   "source": [
    "df_csv['Mileage'] = df_csv['Mileage'].apply(filterOut)\n",
    "df_csv['Power'] = df_csv['Power'].apply(filterOut)\n",
    "df_csv['Engine'] = df_csv['Engine'].apply(filterOut)"
   ]
  },
  {
   "cell_type": "code",
   "execution_count": 52,
   "id": "83281205",
   "metadata": {},
   "outputs": [
    {
     "name": "stdout",
     "output_type": "stream",
     "text": [
      "      Unnamed: 0                              Name    Location  Year  \\\n",
      "0              1  Hyundai Creta 1.6 CRDi SX Option        Pune  2015   \n",
      "1              2                      Honda Jazz V     Chennai  2011   \n",
      "2              3                 Maruti Ertiga VDI     Chennai  2012   \n",
      "3              4   Audi A4 New 2.0 TDI Multitronic  Coimbatore  2013   \n",
      "4              6            Nissan Micra Diesel XV      Jaipur  2013   \n",
      "...          ...                               ...         ...   ...   \n",
      "5842        6014                  Maruti Swift VDI       Delhi  2014   \n",
      "5843        6015          Hyundai Xcent 1.1 CRDi S      Jaipur  2015   \n",
      "5844        6016             Mahindra Xylo D4 BSIV      Jaipur  2012   \n",
      "5845        6017                Maruti Wagon R VXI     Kolkata  2013   \n",
      "5846        6018             Chevrolet Beat Diesel   Hyderabad  2011   \n",
      "\n",
      "      Kilometers_Driven Fuel_Type Transmission Owner_Type Mileage Engine  \\\n",
      "0                 41000    Diesel       Manual      First   19.67   1582   \n",
      "1                 46000    Petrol       Manual      First      13   1199   \n",
      "2                 87000    Diesel       Manual      First   20.77   1248   \n",
      "3                 40670    Diesel    Automatic     Second    15.2   1968   \n",
      "4                 86999    Diesel       Manual      First   23.08   1461   \n",
      "...                 ...       ...          ...        ...     ...    ...   \n",
      "5842              27365    Diesel       Manual      First    28.4   1248   \n",
      "5843             100000    Diesel       Manual      First    24.4   1120   \n",
      "5844              55000    Diesel       Manual     Second    14.0   2498   \n",
      "5845              46000    Petrol       Manual      First    18.9    998   \n",
      "5846              47000    Diesel       Manual      First   25.44    936   \n",
      "\n",
      "      Power  Seats  New_Price  Price  \n",
      "0     126.2    5.0      11.48  12.50  \n",
      "1      88.7    5.0       8.61   4.50  \n",
      "2     88.76    7.0      11.48   6.00  \n",
      "3     140.8    5.0      11.48  17.74  \n",
      "4      63.1    5.0      11.48   3.50  \n",
      "...     ...    ...        ...    ...  \n",
      "5842     74    5.0       7.88   4.75  \n",
      "5843     71    5.0      11.48   4.00  \n",
      "5844    112    8.0      11.48   2.90  \n",
      "5845   67.1    5.0      11.48   2.65  \n",
      "5846   57.6    5.0      11.48   2.50  \n",
      "\n",
      "[5847 rows x 14 columns]\n"
     ]
    }
   ],
   "source": [
    "print(df_csv)"
   ]
  },
  {
   "cell_type": "markdown",
   "id": "bb23bc30",
   "metadata": {},
   "source": [
    "c. Converting the 'Fuel_Type' and 'Transmission' into  categorical variables"
   ]
  },
  {
   "cell_type": "code",
   "execution_count": 53,
   "id": "1eb5a0f8",
   "metadata": {},
   "outputs": [
    {
     "name": "stdout",
     "output_type": "stream",
     "text": [
      "      Unnamed: 0                              Name    Location  Year  \\\n",
      "0              1  Hyundai Creta 1.6 CRDi SX Option        Pune  2015   \n",
      "1              2                      Honda Jazz V     Chennai  2011   \n",
      "2              3                 Maruti Ertiga VDI     Chennai  2012   \n",
      "3              4   Audi A4 New 2.0 TDI Multitronic  Coimbatore  2013   \n",
      "4              6            Nissan Micra Diesel XV      Jaipur  2013   \n",
      "...          ...                               ...         ...   ...   \n",
      "5842        6014                  Maruti Swift VDI       Delhi  2014   \n",
      "5843        6015          Hyundai Xcent 1.1 CRDi S      Jaipur  2015   \n",
      "5844        6016             Mahindra Xylo D4 BSIV      Jaipur  2012   \n",
      "5845        6017                Maruti Wagon R VXI     Kolkata  2013   \n",
      "5846        6018             Chevrolet Beat Diesel   Hyderabad  2011   \n",
      "\n",
      "      Kilometers_Driven Owner_Type     Mileage   Engine      Power  Seats  \\\n",
      "0                 41000      First  19.67 kmpl  1582 CC  126.2 bhp    5.0   \n",
      "1                 46000      First    13 km/kg  1199 CC   88.7 bhp    5.0   \n",
      "2                 87000      First  20.77 kmpl  1248 CC  88.76 bhp    7.0   \n",
      "3                 40670     Second   15.2 kmpl  1968 CC  140.8 bhp    5.0   \n",
      "4                 86999      First  23.08 kmpl  1461 CC   63.1 bhp    5.0   \n",
      "...                 ...        ...         ...      ...        ...    ...   \n",
      "5842              27365      First   28.4 kmpl  1248 CC     74 bhp    5.0   \n",
      "5843             100000      First   24.4 kmpl  1120 CC     71 bhp    5.0   \n",
      "5844              55000     Second   14.0 kmpl  2498 CC    112 bhp    8.0   \n",
      "5845              46000      First   18.9 kmpl   998 CC   67.1 bhp    5.0   \n",
      "5846              47000      First  25.44 kmpl   936 CC   57.6 bhp    5.0   \n",
      "\n",
      "      New_Price  Price  Fuel_Type_Diesel  Fuel_Type_Electric  \\\n",
      "0           NaN  12.50                 1                   0   \n",
      "1     8.61 Lakh   4.50                 0                   0   \n",
      "2           NaN   6.00                 1                   0   \n",
      "3           NaN  17.74                 1                   0   \n",
      "4           NaN   3.50                 1                   0   \n",
      "...         ...    ...               ...                 ...   \n",
      "5842  7.88 Lakh   4.75                 1                   0   \n",
      "5843        NaN   4.00                 1                   0   \n",
      "5844        NaN   2.90                 1                   0   \n",
      "5845        NaN   2.65                 0                   0   \n",
      "5846        NaN   2.50                 1                   0   \n",
      "\n",
      "      Fuel_Type_Petrol  Transmission_Automatic  Transmission_Manual  \n",
      "0                    0                       0                    1  \n",
      "1                    1                       0                    1  \n",
      "2                    0                       0                    1  \n",
      "3                    0                       1                    0  \n",
      "4                    0                       0                    1  \n",
      "...                ...                     ...                  ...  \n",
      "5842                 0                       0                    1  \n",
      "5843                 0                       0                    1  \n",
      "5844                 0                       0                    1  \n",
      "5845                 1                       0                    1  \n",
      "5846                 0                       0                    1  \n",
      "\n",
      "[5847 rows x 17 columns]\n"
     ]
    }
   ],
   "source": [
    "df_csv=pd.get_dummies(dataframe,columns=['Fuel_Type','Transmission'])\n",
    "print(df_csv)"
   ]
  },
  {
   "cell_type": "markdown",
   "id": "0c071d78",
   "metadata": {},
   "source": [
    "d. Adding new feature to the dataset to calculate the current age of the car"
   ]
  },
  {
   "cell_type": "code",
   "execution_count": 55,
   "id": "c43a978d",
   "metadata": {},
   "outputs": [
    {
     "name": "stdout",
     "output_type": "stream",
     "text": [
      "      Unnamed: 0                              Name    Location  Year  \\\n",
      "0              1  Hyundai Creta 1.6 CRDi SX Option        Pune  2015   \n",
      "1              2                      Honda Jazz V     Chennai  2011   \n",
      "2              3                 Maruti Ertiga VDI     Chennai  2012   \n",
      "3              4   Audi A4 New 2.0 TDI Multitronic  Coimbatore  2013   \n",
      "4              6            Nissan Micra Diesel XV      Jaipur  2013   \n",
      "...          ...                               ...         ...   ...   \n",
      "5842        6014                  Maruti Swift VDI       Delhi  2014   \n",
      "5843        6015          Hyundai Xcent 1.1 CRDi S      Jaipur  2015   \n",
      "5844        6016             Mahindra Xylo D4 BSIV      Jaipur  2012   \n",
      "5845        6017                Maruti Wagon R VXI     Kolkata  2013   \n",
      "5846        6018             Chevrolet Beat Diesel   Hyderabad  2011   \n",
      "\n",
      "      Kilometers_Driven Owner_Type     Mileage   Engine      Power  Seats  \\\n",
      "0                 41000      First  19.67 kmpl  1582 CC  126.2 bhp    5.0   \n",
      "1                 46000      First    13 km/kg  1199 CC   88.7 bhp    5.0   \n",
      "2                 87000      First  20.77 kmpl  1248 CC  88.76 bhp    7.0   \n",
      "3                 40670     Second   15.2 kmpl  1968 CC  140.8 bhp    5.0   \n",
      "4                 86999      First  23.08 kmpl  1461 CC   63.1 bhp    5.0   \n",
      "...                 ...        ...         ...      ...        ...    ...   \n",
      "5842              27365      First   28.4 kmpl  1248 CC     74 bhp    5.0   \n",
      "5843             100000      First   24.4 kmpl  1120 CC     71 bhp    5.0   \n",
      "5844              55000     Second   14.0 kmpl  2498 CC    112 bhp    8.0   \n",
      "5845              46000      First   18.9 kmpl   998 CC   67.1 bhp    5.0   \n",
      "5846              47000      First  25.44 kmpl   936 CC   57.6 bhp    5.0   \n",
      "\n",
      "      New_Price  Price  Fuel_Type_Diesel  Fuel_Type_Electric  \\\n",
      "0           NaN  12.50                 1                   0   \n",
      "1     8.61 Lakh   4.50                 0                   0   \n",
      "2           NaN   6.00                 1                   0   \n",
      "3           NaN  17.74                 1                   0   \n",
      "4           NaN   3.50                 1                   0   \n",
      "...         ...    ...               ...                 ...   \n",
      "5842  7.88 Lakh   4.75                 1                   0   \n",
      "5843        NaN   4.00                 1                   0   \n",
      "5844        NaN   2.90                 1                   0   \n",
      "5845        NaN   2.65                 0                   0   \n",
      "5846        NaN   2.50                 1                   0   \n",
      "\n",
      "      Fuel_Type_Petrol  Transmission_Automatic  Transmission_Manual  Car_Age  \n",
      "0                    0                       0                    1        8  \n",
      "1                    1                       0                    1       12  \n",
      "2                    0                       0                    1       11  \n",
      "3                    0                       1                    0       10  \n",
      "4                    0                       0                    1       10  \n",
      "...                ...                     ...                  ...      ...  \n",
      "5842                 0                       0                    1        9  \n",
      "5843                 0                       0                    1        8  \n",
      "5844                 0                       0                    1       11  \n",
      "5845                 1                       0                    1       10  \n",
      "5846                 0                       0                    1       12  \n",
      "\n",
      "[5847 rows x 18 columns]\n"
     ]
    }
   ],
   "source": [
    "current_year = datetime.now().year\n",
    "df_csv['Car_Age'] = current_year - df_csv['Year']\n",
    "print(df_csv)"
   ]
  },
  {
   "cell_type": "code",
   "execution_count": 57,
   "id": "3ccedb5e",
   "metadata": {},
   "outputs": [],
   "source": [
    "# exporting the result dataset\n",
    "df_csv.to_csv('result.csv')"
   ]
  }
 ],
 "metadata": {
  "kernelspec": {
   "display_name": "Python 3 (ipykernel)",
   "language": "python",
   "name": "python3"
  },
  "language_info": {
   "codemirror_mode": {
    "name": "ipython",
    "version": 3
   },
   "file_extension": ".py",
   "mimetype": "text/x-python",
   "name": "python",
   "nbconvert_exporter": "python",
   "pygments_lexer": "ipython3",
   "version": "3.11.4"
  }
 },
 "nbformat": 4,
 "nbformat_minor": 5
}
